{
  "nbformat": 4,
  "nbformat_minor": 0,
  "metadata": {
    "colab": {
      "provenance": []
    },
    "kernelspec": {
      "name": "python3",
      "display_name": "Python 3"
    },
    "language_info": {
      "name": "python"
    }
  },
  "cells": [
    {
      "cell_type": "code",
      "execution_count": null,
      "metadata": {
        "id": "cBSXC8v-AVVW"
      },
      "outputs": [],
      "source": [
        "# Install RDKit\n",
        "!pip install rdkit"
      ]
    },
    {
      "cell_type": "code",
      "source": [
        "# Import Libraries\n",
        "import pandas as pd\n",
        "import rdkit\n",
        "from rdkit import Chem\n",
        "from rdkit.Chem import Descriptors\n",
        "import numpy as np\n",
        "import seaborn as sns\n",
        "from sklearn.preprocessing import MinMaxScaler\n",
        "from sklearn.model_selection import train_test_split\n",
        "import matplotlib.pyplot as plt\n",
        "from sklearn import linear_model\n",
        "from sklearn.metrics import mean_squared_error, r2_score\n",
        "from sklearn.ensemble import RandomForestRegressor\n",
        "import random\n",
        "\n",
        "print(f\"RDKit version: {rdkit.__version__}\")"
      ],
      "metadata": {
        "id": "4YC_nWzeBCh_"
      },
      "execution_count": null,
      "outputs": []
    },
    {
      "cell_type": "code",
      "source": [
        "#Load and Prepare Data\n",
        "# Load dataset\n",
        "url = 'https://raw.githubusercontent.com/dataprofessor/data/master/delaney.csv'\n",
        "sol_df = pd.read_csv(url)\n",
        "\n",
        "# Display first few rows of the dataset\n",
        "print(\"Dataset head:\")\n",
        "display(sol_df.head())\n",
        "\n",
        "# Convert SMILES to RDKit molecules\n",
        "mol_data = [Chem.MolFromSmiles(element) for element in sol_df.SMILES]\n",
        "print(f\"\\nTotal molecules processed: {len(mol_data)}\")\n",
        "print(f\"First molecule: {mol_data[0]}\")"
      ],
      "metadata": {
        "id": "vGL2nbjMBILu"
      },
      "execution_count": null,
      "outputs": []
    },
    {
      "cell_type": "code",
      "source": [
        "from rdkit.Chem import AllChem\n",
        "from rdkit.Chem import Draw\n",
        "from rdkit import Chem\n",
        "\n",
        "def draw_molecules_grid(smiles_dict, n_cols=3, img_size=(300, 300)):\n",
        "    \"\"\"Draw molecules in a grid layout with labels\"\"\"\n",
        "    mols = []\n",
        "    legends = []\n",
        "\n",
        "    # Convert SMILES to RDKit molecules\n",
        "    for name, smiles in smiles_dict.items():\n",
        "        mol = Chem.MolFromSmiles(smiles)\n",
        "        if mol is not None:\n",
        "            # Generate 2D coordinates for the molecule\n",
        "            AllChem.Compute2DCoords(mol)\n",
        "            mols.append(mol)\n",
        "            legends.append(name)\n",
        "\n",
        "    # Calculate number of rows needed\n",
        "    n_rows = (len(mols) + n_cols - 1) // n_cols\n",
        "\n",
        "    # Create the grid image\n",
        "    img = Draw.MolsToGridImage(mols,\n",
        "                              molsPerRow=n_cols,\n",
        "                              subImgSize=img_size,\n",
        "                              legends=legends,\n",
        "                              returnPNG=False)\n",
        "\n",
        "    # Display using matplotlib\n",
        "    plt.figure(figsize=(15, 5*n_rows))\n",
        "    plt.imshow(img)\n",
        "    plt.axis('off')\n",
        "    plt.show()"
      ],
      "metadata": {
        "id": "V8RF3o58FyXh"
      },
      "execution_count": null,
      "outputs": []
    },
    {
      "cell_type": "code",
      "source": [
        "sample_molecules = dict(zip(\n",
        "    [f'Molecule_{i+1}' for i in range(5)],  # Names\n",
        "    sol_df['SMILES'].head(5)  # SMILES strings\n",
        "))\n",
        "\n",
        "# Visualize these molecules\n",
        "draw_molecules_grid(sample_molecules)"
      ],
      "metadata": {
        "id": "DyamZ9kQFF3T"
      },
      "execution_count": null,
      "outputs": []
    },
    {
      "cell_type": "code",
      "source": [
        "#Calculate Molecular Descriptors\n",
        "mol_descriptors_np = np.arange(1,1)\n",
        "\n",
        "for mol in mol_data:\n",
        "    clogP = Descriptors.MolLogP(mol)\n",
        "    mol_weight = Descriptors.MolWt(mol)\n",
        "    num_rotatable_bonds = Descriptors.NumRotatableBonds(mol)\n",
        "\n",
        "    row = np.array([clogP, mol_weight, num_rotatable_bonds])\n",
        "\n",
        "    if mol_descriptors_np.size == 0:\n",
        "        mol_descriptors_np = row\n",
        "    else:\n",
        "        mol_descriptors_np = np.vstack([mol_descriptors_np, row])\n",
        "\n",
        "print(\"Molecular descriptors shape:\", mol_descriptors_np.shape)"
      ],
      "metadata": {
        "colab": {
          "base_uri": "https://localhost:8080/"
        },
        "id": "qtLOzyTsBiTw",
        "outputId": "08ee837e-f043-4014-f349-2261049f4744"
      },
      "execution_count": null,
      "outputs": [
        {
          "output_type": "stream",
          "name": "stdout",
          "text": [
            "Molecular descriptors shape: (1144, 3)\n"
          ]
        }
      ]
    },
    {
      "cell_type": "code",
      "source": [
        "#Calculate Aromatic Proportion\n",
        "aromatic_arr = []\n",
        "\n",
        "for mol in mol_data:\n",
        "    total_atoms = mol.GetNumAtoms()\n",
        "    aromatic_count = 0\n",
        "    for i in range(total_atoms):\n",
        "        if mol.GetAtomWithIdx(i).GetIsAromatic():\n",
        "            aromatic_count += 1\n",
        "\n",
        "    aromatic_arr.append(aromatic_count/Descriptors.HeavyAtomCount(mol))\n",
        "\n",
        "aromatic_np = np.array(aromatic_arr).reshape(-1,1)\n",
        "print(\"Aromatic proportions shape:\", aromatic_np.shape)"
      ],
      "metadata": {
        "colab": {
          "base_uri": "https://localhost:8080/"
        },
        "id": "pVLJAlwXBsAc",
        "outputId": "5dc6aed2-19bd-4457-d66f-21176d4244be"
      },
      "execution_count": null,
      "outputs": [
        {
          "output_type": "stream",
          "name": "stdout",
          "text": [
            "Aromatic proportions shape: (1144, 1)\n"
          ]
        }
      ]
    },
    {
      "cell_type": "code",
      "source": [
        "#Create Final Dataset\n",
        "# Combine all descriptors\n",
        "all_descriptors_np = np.hstack([mol_descriptors_np, aromatic_np])\n",
        "\n",
        "# Create descriptors dataframe\n",
        "descriptors_df = pd.DataFrame(all_descriptors_np,\n",
        "                            columns=['cLogP', 'MolWeight', 'numRotatableBonds', 'AromaticProportion'])\n",
        "\n",
        "# Add solubility values\n",
        "descriptors_df = pd.concat([descriptors_df, sol_df[\"measured log(solubility:mol/L)\"]], axis=1)\n",
        "descriptors_df.rename(columns={'measured log(solubility:mol/L)': 'log(solubility:mol/L)'}, inplace=True)\n",
        "\n",
        "# Display dataset info\n",
        "print(\"Final dataset info:\")\n",
        "display(descriptors_df.describe())"
      ],
      "metadata": {
        "id": "c8MBLeXhCCgo"
      },
      "execution_count": null,
      "outputs": []
    },
    {
      "cell_type": "code",
      "source": [
        "#Data Preparation for Modeling\n",
        "# Set seed for reproducibility\n",
        "SEED = 1\n",
        "random.seed(SEED)\n",
        "np.random.seed(SEED)\n",
        "\n",
        "# Prepare features and target\n",
        "X = descriptors_df[['cLogP', 'MolWeight', 'numRotatableBonds', 'AromaticProportion']].values\n",
        "Y = descriptors_df[['log(solubility:mol/L)']].values\n",
        "\n",
        "# Normalize data\n",
        "scaler = MinMaxScaler()\n",
        "normalized_X = scaler.fit_transform(X)\n",
        "normalized_Y = scaler.fit_transform(Y).ravel()\n",
        "\n",
        "# Split data\n",
        "X_train, X_test, Y_train, Y_test = train_test_split(normalized_X, normalized_Y,\n",
        "                                                    test_size=0.2, random_state=SEED)\n",
        "\n",
        "print(\"Data shapes:\")\n",
        "print(f\"X_train: {X_train.shape}\")\n",
        "print(f\"X_test: {X_test.shape}\")\n",
        "print(f\"Y_train: {Y_train.shape}\")\n",
        "print(f\"Y_test: {Y_test.shape}\")"
      ],
      "metadata": {
        "id": "E6lh93y9CTzd"
      },
      "execution_count": null,
      "outputs": []
    },
    {
      "cell_type": "code",
      "source": [
        "#Linear Regression Model\n",
        "# Train and evaluate linear regression model\n",
        "lr_model = linear_model.LinearRegression()\n",
        "lr_model.fit(X_train, Y_train)\n",
        "\n",
        "Y_pred_test_lr = lr_model.predict(X_test)\n",
        "lin_reg_mse = mean_squared_error(Y_test, Y_pred_test_lr)\n",
        "lin_reg_r2 = r2_score(Y_test, Y_pred_test_lr)\n",
        "\n",
        "print(f'Linear regression - MSE: {lin_reg_mse:.4f}')\n",
        "print(f'Linear regression - R²: {lin_reg_r2:.4f}')\n",
        "\n",
        "# Plot results\n",
        "plt.figure(figsize=(10, 6))\n",
        "slope_lin, intercept_lin = np.polyfit(Y_test, Y_pred_test_lr, 1)\n",
        "plt.scatter(x=Y_test, y=Y_pred_test_lr, color='blue', s=25, alpha=0.5)\n",
        "plt.plot(Y_test, slope_lin*Y_test + intercept_lin, color='red', alpha=0.6)\n",
        "plt.xlabel('Experimental Solubility', fontsize=12)\n",
        "plt.ylabel('Predicted Solubility', fontsize=12)\n",
        "plt.title('Multiple Linear Regression', fontsize=15)\n",
        "plt.show()"
      ],
      "metadata": {
        "id": "pfCPKpgQCd_7"
      },
      "execution_count": null,
      "outputs": []
    },
    {
      "cell_type": "code",
      "source": [
        "#TODO: Random Forest Model\n",
        "# Train and evaluate random forest model\n"
      ],
      "metadata": {
        "id": "699yDEI5CvnU"
      },
      "execution_count": null,
      "outputs": []
    },
    {
      "cell_type": "code",
      "source": [
        "# Model Comparison Summary"
      ],
      "metadata": {
        "id": "LTUd7ZmeC9Ji"
      },
      "execution_count": null,
      "outputs": []
    },
    {
      "cell_type": "markdown",
      "source": [
        "Reference: ESOL:  Estimating Aqueous Solubility Directly from Molecular Structure (https://pubs.acs.org/doi/10.1021/ci034243x)\n"
      ],
      "metadata": {
        "id": "Pg9mb5_GO7Wx"
      }
    },
    {
      "cell_type": "code",
      "source": [
        "# TODO: Predict solubility of mefenamic acid in water"
      ],
      "metadata": {
        "id": "9MHPwOWvPCGF"
      },
      "execution_count": null,
      "outputs": []
    },
    {
      "cell_type": "code",
      "source": [],
      "metadata": {
        "id": "PMf0OhyHD8H9"
      },
      "execution_count": null,
      "outputs": []
    }
  ]
}